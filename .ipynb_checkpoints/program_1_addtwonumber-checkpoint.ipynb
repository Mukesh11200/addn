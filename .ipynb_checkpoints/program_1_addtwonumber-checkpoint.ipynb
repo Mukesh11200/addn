{
 "cells": [
  {
   "cell_type": "code",
   "execution_count": 16,
   "id": "98b5cd4a",
   "metadata": {},
   "outputs": [
    {
     "name": "stdout",
     "output_type": "stream",
     "text": [
      "enter n1 : 21\n",
      "enter n2  : 213\n",
      "('Sum of a+b = ', 1632)\n"
     ]
    }
   ],
   "source": [
    "def addtwo(a,b):\n",
    "    c = (\"Sum of a+b = \", a + b)\n",
    "    return c\n",
    "n1 = input(\"enter n1 : \" )\n",
    "n2 = input(\"enter n2  : \")\n",
    "addtwo(n1,n2)\n",
    "print(addtwo(45,1587))"
   ]
  },
  {
   "cell_type": "code",
   "execution_count": 14,
   "id": "dc980317",
   "metadata": {},
   "outputs": [
    {
     "name": "stdout",
     "output_type": "stream",
     "text": [
      "Enter your 1st num: 454\n",
      "Enter your 2nd num: 564\n",
      "('Sum of total = ', 1018)\n"
     ]
    }
   ],
   "source": [
    "def addtwo():\n",
    "    a = int(input(\"Enter your 1st num: \"))\n",
    "    b = int(input(\"Enter your 2nd num: \"))\n",
    "    c = (\"Sum of total = \" , a + b)\n",
    "    return c\n",
    "print(addtwo())"
   ]
  },
  {
   "cell_type": "code",
   "execution_count": null,
   "id": "4d6bd11b",
   "metadata": {},
   "outputs": [],
   "source": []
  }
 ],
 "metadata": {
  "kernelspec": {
   "display_name": "Python 3 (ipykernel)",
   "language": "python",
   "name": "python3"
  },
  "language_info": {
   "codemirror_mode": {
    "name": "ipython",
    "version": 3
   },
   "file_extension": ".py",
   "mimetype": "text/x-python",
   "name": "python",
   "nbconvert_exporter": "python",
   "pygments_lexer": "ipython3",
   "version": "3.9.12"
  }
 },
 "nbformat": 4,
 "nbformat_minor": 5
}
